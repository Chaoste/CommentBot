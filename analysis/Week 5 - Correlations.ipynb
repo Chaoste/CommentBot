{
 "cells": [
  {
   "cell_type": "markdown",
   "metadata": {},
   "source": [
    "TO READ: https://drive.google.com/file/d/1cr8vYmjvbVp4iS6KwhNQBn9Nkb3ylVjK/view"
   ]
  },
  {
   "cell_type": "code",
   "execution_count": 1,
   "metadata": {},
   "outputs": [
    {
     "name": "stderr",
     "output_type": "stream",
     "text": [
      "c:\\users\\thomas\\hpi\\textmi~1\\venv\\lib\\site-packages\\gensim\\utils.py:1197: UserWarning: detected Windows; aliasing chunkize to chunkize_serial\n",
      "  warnings.warn(\"detected Windows; aliasing chunkize to chunkize_serial\")\n"
     ]
    }
   ],
   "source": [
    "import datetime\n",
    "import os\n",
    "import re\n",
    "import urllib\n",
    "import sys\n",
    "import math\n",
    "import numpy as np\n",
    "import pandas as pd\n",
    "from scipy.stats import describe\n",
    "\n",
    "# Visualization\n",
    "import matplotlib.pyplot as plt\n",
    "import matplotlib.cm as cmap\n",
    "%matplotlib inline\n",
    "\n",
    "from wordcloud import WordCloud\n",
    "import networkx as nx\n",
    "from gensim.models import KeyedVectors"
   ]
  },
  {
   "cell_type": "code",
   "execution_count": 2,
   "metadata": {},
   "outputs": [],
   "source": [
    "# Data files\n",
    "\n",
    "# article_id, article_url\n",
    "SRC_ARTICLES = '../data/guardian-all/articles-standardized.csv'\n",
    "SRC_AUTHORS = '../data/guardian-all/authors-standardized.csv'\n",
    "SRC_COMMENTS = '../data/guardian-all/sorted_comments-standardized.csv'\n",
    "SRC_COMMENTS_POL = '../data/pol/comments-root-all-pol.csv'\n",
    "SRC_COMMENTS_POL_ALL = '../data/pol/comments-all-pol.csv'\n",
    "SRC_COMMENTS_TOKENIZED_BIN = '../data/embedding/gensim-guardian-comments-50-tokenized.bin'\n",
    "\n",
    "OUTPUT_DIR = './week-5-plots'\n",
    "\n",
    "def plot_timestamps(article_id):\n",
    "    datetimes = data[data['article_id'] == article_id]['timestamp']\n",
    "    timestamps = [int(datetime.datetime.strptime(x, \"%Y-%m-%dT%H:%M:%SZ\").timestamp()) for x in datetimes]\n",
    "    plt.hist(timestamps)"
   ]
  },
  {
   "cell_type": "code",
   "execution_count": 3,
   "metadata": {},
   "outputs": [],
   "source": [
    "data_comments_pol = pd.read_csv(SRC_COMMENTS_POL_ALL)"
   ]
  },
  {
   "cell_type": "code",
   "execution_count": 4,
   "metadata": {},
   "outputs": [],
   "source": [
    "article_ids = data_comments_pol['article_id'].unique()  # 20140 ids"
   ]
  },
  {
   "cell_type": "code",
   "execution_count": 5,
   "metadata": {},
   "outputs": [],
   "source": [
    "data_articles = pd.read_csv(SRC_ARTICLES)  # shape = (626395, 2)\n",
    "data_articles_pol = data_articles[data_articles['article_url'].str.contains('/politics/')]  # shape = (20167, 2)\n",
    "data_authors = pd.read_csv(SRC_AUTHORS)\n",
    "data_comments_pol = pd.read_csv(SRC_COMMENTS_POL_ALL)\n",
    "\n",
    "article_ids = data_comments_pol['article_id'].unique()  # 2876 ids"
   ]
  },
  {
   "cell_type": "code",
   "execution_count": 7,
   "metadata": {},
   "outputs": [],
   "source": [
    "pattern = re.compile(r'\\.com\\/([^\\/]*)\\/([^\\/]*)\\/')\n",
    "pattern2 = re.compile(r'\\.com\\/([^\\/]*)')\n",
    "\n",
    "def get_category(link):\n",
    "    m = pattern.search(link)\n",
    "    if not m:\n",
    "        m = pattern2.search(link)\n",
    "        return m.group(1)\n",
    "    return m.group(1)\n",
    "\n",
    "links = data_articles['article_url'].values\n",
    "categories = [get_category(x) for x in links]\n",
    "uniques = np.unique(categories)\n",
    "# np.set_printoptions(threshold=np.inf)\n",
    "# print(uniques)"
   ]
  },
  {
   "cell_type": "code",
   "execution_count": 8,
   "metadata": {},
   "outputs": [],
   "source": [
    "upvotes_per_author = data_comments_pol[['author_id', 'upvotes']].groupby('author_id').sum().iloc[:, 0]\n",
    "comments_per_author = data_comments_pol[['author_id', 'upvotes']].groupby('author_id').count().iloc[:, 0]\n",
    "mean_upvotes_per_author = upvotes_per_author / comments_per_author"
   ]
  },
  {
   "cell_type": "code",
   "execution_count": 9,
   "metadata": {},
   "outputs": [],
   "source": [
    "replies_count = pd.Series(index=data_comments_pol['comment_id'], data=0)\n",
    "parent_comment_ids = data_comments_pol['parent_comment_id']\n",
    "for parent_id in parent_comment_ids[~parent_comment_ids.isnull()].values:\n",
    "    if parent_id in replies_count:\n",
    "        replies_count.loc[parent_id] += 1"
   ]
  },
  {
   "cell_type": "code",
   "execution_count": 10,
   "metadata": {},
   "outputs": [
    {
     "name": "stdout",
     "output_type": "stream",
     "text": [
      "row: 1664592\n",
      "upvotes: 2615\n",
      "author_id: 54083\n"
     ]
    }
   ],
   "source": [
    "print('row:', data_comments_pol['upvotes'].values.argmax())\n",
    "print('upvotes:', data_comments_pol['upvotes'].max())\n",
    "print('author_id:', data_comments_pol.iloc[3197]['author_id'])"
   ]
  },
  {
   "cell_type": "code",
   "execution_count": 11,
   "metadata": {},
   "outputs": [],
   "source": [
    "extracted_features = dict()\n",
    "extracted_features['upvotes'] = data_comments_pol['upvotes'].values\n",
    "extracted_features['replies'] = replies_count.loc[data_comments_pol['comment_id']].values\n",
    "extracted_features['text_length'] = data_comments_pol['comment_text'].str.len().values\n",
    "extracted_features['author_upvotes'] = upvotes_per_author.loc[data_comments_pol['author_id']].values\n",
    "extracted_features['author_comments'] = comments_per_author.loc[data_comments_pol['author_id']].values\n",
    "extracted_features['mean_author_upvotes'] = mean_upvotes_per_author.loc[data_comments_pol['author_id']].values\n",
    "extracted_features['rank'] = data_comments_pol.groupby('article_id')['timestamp'].rank(method='dense').astype(int)\n",
    "extracted_features['total_upvotes'] = data_comments_pol.groupby('article_id')['upvotes'].transform('sum')\n",
    "extracted_features['total_comments'] = data_comments_pol.groupby('article_id')['upvotes'].transform('count')\n",
    "# extracted_features['rel_upvotes'] = extracted_features.apply(lambda row: (row.upvotes / (row.total_upvotes or 1)) * 100, axis=1)\n",
    "\n",
    "# TODO:\n",
    "# Rang\n",
    "# Rechtschreibung (cluster words?)\n",
    "# Amount of words\n",
    "# Mean amount of words in a sentence\n",
    "# Grammatik (use pretrained model)\n",
    "# TODO: normalize upvotes\n",
    "# Ähnlichkeit von Comment and Article (used words from articles wordcloud)"
   ]
  },
  {
   "cell_type": "code",
   "execution_count": 12,
   "metadata": {},
   "outputs": [],
   "source": [
    "# TODO: Predict upvotes for first ten/fifty comments (for articles with 1000 comments)\n",
    "# Bestrafe wörter die nicht im embedding sind\n",
    "# Padding zwischen 50 und 200 Wörter\n",
    "# Mixed models später - erstmal an leichten weiter probieren\n",
    "# Outlier inspection\n",
    "\n",
    "# 1. Neues Embedding\n",
    "# 2. Use Normalization\n",
    "# 3. Neues Setting\n",
    "# 4. Feature Extraction\n",
    "# 5. Only consider first comment with zero upvotes and hundredth comment with more than zero upvotes\n",
    "# 6. Filter mediocre comments. Try to analyse really bad and really good comments"
   ]
  },
  {
   "cell_type": "code",
   "execution_count": 13,
   "metadata": {},
   "outputs": [],
   "source": [
    "extracted_features_df = pd.DataFrame.from_dict(extracted_features)\n",
    "extracted_features_df['rel_upvotes'] = extracted_features_df.apply(lambda row: (row.upvotes / (row.total_upvotes or 1)) * 100, axis=1)"
   ]
  },
  {
   "cell_type": "code",
   "execution_count": 14,
   "metadata": {},
   "outputs": [
    {
     "data": {
      "image/png": "[encoded data removed]",
      "text/plain": [
       "<matplotlib.figure.Figure at 0x2c28816b278>"
      ]
     },
     "metadata": {},
     "output_type": "display_data"
    }
   ],
   "source": [
    "labels = list(reversed(extracted_features_df.columns))\n",
    "\n",
    "fig, ax = plt.subplots(1, 1, figsize=(14, 12))\n",
    "cax = ax.matshow(extracted_features_df[extracted_features_df['author_comments'] > 1000][labels].corr())\n",
    "cbar = fig.colorbar(cax)\n",
    "ax.set_xticklabels([''] + labels)\n",
    "ax.set_yticklabels([''] + labels)\n",
    "ax.set_title('Correlations: Comment Features')\n",
    "fig.savefig('comments_from_1000er_authors.pdf')\n",
    "fig.savefig('comments_from_1000er_authors.png')\n",
    "# upvotes\n",
    "# replies\n",
    "# text_length\n",
    "# author_upvotes\n",
    "# author_comments\n",
    "# mean_author_upvotes\n",
    "# rank\n",
    "# total_upvotes\n",
    "# total_comments"
   ]
  },
  {
   "cell_type": "code",
   "execution_count": null,
   "metadata": {},
   "outputs": [],
   "source": [
    "# class for top 10 comments (not equal distributed classes)\n",
    "# classweights for loss functions (weights per class)\n",
    "# otherwise over oder under sampling\n",
    "\n",
    "### Data augmentation translate german to english and vice versa"
   ]
  }
 ],
 "metadata": {
  "kernelspec": {
   "display_name": "Python 3",
   "language": "python",
   "name": "python3"
  },
  "language_info": {
   "codemirror_mode": {
    "name": "ipython",
    "version": 3
   },
   "file_extension": ".py",
   "mimetype": "text/x-python",
   "name": "python",
   "nbconvert_exporter": "python",
   "pygments_lexer": "ipython3",
   "version": "3.6.4"
  }
 },
 "nbformat": 4,
 "nbformat_minor": 2
}
