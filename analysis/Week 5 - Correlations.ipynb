{
 "cells": [
  {
   "cell_type": "markdown",
   "metadata": {},
   "source": [
    "TO READ: https://drive.google.com/file/d/1cr8vYmjvbVp4iS6KwhNQBn9Nkb3ylVjK/view"
   ]
  },
  {
   "cell_type": "code",
   "execution_count": 1,
   "metadata": {},
   "outputs": [
    {
     "name": "stderr",
     "output_type": "stream",
     "text": [
      "c:\\users\\thomas\\hpi\\textmi~1\\venv\\lib\\site-packages\\gensim\\utils.py:1197: UserWarning: detected Windows; aliasing chunkize to chunkize_serial\n",
      "  warnings.warn(\"detected Windows; aliasing chunkize to chunkize_serial\")\n"
     ]
    }
   ],
   "source": [
    "import datetime\n",
    "import os\n",
    "import re\n",
    "import urllib\n",
    "import sys\n",
    "import math\n",
    "import numpy as np\n",
    "import pandas as pd\n",
    "from scipy.stats import describe\n",
    "\n",
    "# Visualization\n",
    "import matplotlib.pyplot as plt\n",
    "import matplotlib.cm as cmap\n",
    "%matplotlib inline\n",
    "\n",
    "from wordcloud import WordCloud\n",
    "import networkx as nx\n",
    "from gensim.models import KeyedVectors"
   ]
  },
  {
   "cell_type": "code",
   "execution_count": 2,
   "metadata": {},
   "outputs": [],
   "source": [
    "# Data files\n",
    "\n",
    "# article_id, article_url\n",
    "SRC_ARTICLES = '../data/guardian-all/articles-standardized.csv'\n",
    "SRC_AUTHORS = '../data/guardian-all/authors-standardized.csv'\n",
    "SRC_COMMENTS = '../data/guardian-all/sorted_comments-standardized.csv'\n",
    "SRC_COMMENTS_POL = '../data/guardian-all/sorted_comments-standardized-pol.csv'\n",
    "SRC_COMMENTS_POL_ALL = '../data/guardian-all/sorted_comments-standardized-pol-all.csv'\n",
    "SRC_COMMENTS_POL_TEXT = '../data/guardian-all/sorted_comments-standardized-pol-text.csv'\n",
    "SRC_COMMENTS_TOKENIZED_BIN = '../data/guardian-all/genzim-guardian-comments-50-tokenized.bin'\n",
    "\n",
    "OUTPUT_DIR = './week-5-plots'\n",
    "\n",
    "def plot_timestamps(article_id):\n",
    "    datetimes = data[data['article_id'] == article_id]['timestamp']\n",
    "    timestamps = [int(datetime.datetime.strptime(x, \"%Y-%m-%dT%H:%M:%SZ\").timestamp()) for x in datetimes]\n",
    "    plt.hist(timestamps)"
   ]
  },
  {
   "cell_type": "code",
   "execution_count": 28,
   "metadata": {},
   "outputs": [],
   "source": [
    "import re\n",
    "\n",
    "pattern = re.compile(r'\\.com\\/([^\\/]*)\\/([^\\/]*)\\/')\n",
    "pattern2 = re.compile(r'\\.com\\/([^\\/]*)')\n",
    "\n",
    "def get_category(link):\n",
    "    m = pattern.search(link)\n",
    "    if not m:\n",
    "        m = pattern2.search(link)\n",
    "        return m.group(1)\n",
    "    return m.group(1)\n",
    "\n",
    "links = data_articles['article_url'].values\n",
    "categories = [get_category(x) for x in links]\n",
    "uniques = np.unique(categories)"
   ]
  },
  {
   "cell_type": "code",
   "execution_count": 29,
   "metadata": {
    "scrolled": true
   },
   "outputs": [
    {
     "name": "stdout",
     "output_type": "stream",
     "text": [
      "['artanddesign' 'australia-news' 'big-energy-debate' 'big-ideas' 'books'\n",
      " 'business' 'business-to-business' 'cardiff'\n",
      " 'career-changers-into-education' 'careers' 'childrens-books-site'\n",
      " 'cities' 'commentisfree' 'community' 'crosswords' 'culture'\n",
      " 'culture-network' 'culture-professionals-network' 'edinburgh' 'education'\n",
      " 'environment' 'fashion' 'festival-ready' 'film' 'football'\n",
      " 'forward-women' 'global' 'global-development'\n",
      " 'global-development-professionals-network' 'gnm-archive'\n",
      " 'government-computing-network' 'guardian-professional'\n",
      " 'healthcare-network' 'help' 'higher-education-network' 'housing-network'\n",
      " 'inequality' 'info' 'international' 'katine' 'law' 'leeds' 'lifeandstyle'\n",
      " 'local' 'local-government-network' 'media' 'media-network' 'membership'\n",
      " 'mobile' 'money' 'music' 'naht-edge' 'nanotechnology-world' 'news'\n",
      " 'politics' 'public-leaders-network' 'science' 'search'\n",
      " 'small-business-network' 'small-business-network-partner-zone-lloyds-tsb'\n",
      " 'social-care-careers' 'social-care-network' 'social-enterprise-network'\n",
      " 'society' 'society-professionals' 'sport' 'stage' 'sustainability'\n",
      " 'sustainable-business' 'teacher-network' 'technology' 'theguardian'\n",
      " 'theobserver' 'thinking-about-money' 'trade-boost' 'travel'\n",
      " 'tv-and-radio' 'uk' 'uk-news' 'us' 'us-news' 'vital-signs'\n",
      " 'voluntary-sector-network' 'weather' 'wellbeing-at-work' 'what-is-nano'\n",
      " 'women-in-leadership' 'working-in-development' 'world'\n",
      " 'young-arts-critic-competition']\n"
     ]
    }
   ],
   "source": [
    "np.set_printoptions(threshold=np.inf)\n",
    "print(uniques)"
   ]
  },
  {
   "cell_type": "code",
   "execution_count": 3,
   "metadata": {},
   "outputs": [],
   "source": [
    "data_articles = pd.read_csv(SRC_ARTICLES)  # shape = (626395, 2)\n",
    "data_articles_pol = data_articles[data_articles['article_url'].str.contains('/politics/')]  # shape = (20167, 2)\n",
    "data_authors = pd.read_csv(SRC_AUTHORS)\n",
    "data_comments_pol = pd.read_csv(SRC_COMMENTS_POL_ALL)\n",
    "\n",
    "article_ids = data_comments_pol['article_id'].unique()  # 2876 ids"
   ]
  },
  {
   "cell_type": "code",
   "execution_count": 117,
   "metadata": {},
   "outputs": [],
   "source": [
    "upvotes_per_author = data_comments_pol[['author_id', 'upvotes']].groupby('author_id').sum().iloc[:, 0]\n",
    "comments_per_author = data_comments_pol[['author_id', 'upvotes']].groupby('author_id').count().iloc[:, 0]\n",
    "mean_upvotes_per_author = upvotes_per_author / comments_per_author"
   ]
  },
  {
   "cell_type": "code",
   "execution_count": 97,
   "metadata": {},
   "outputs": [],
   "source": [
    "replies_count = pd.Series(index=data_comments_pol['comment_id'], data=0)\n",
    "parent_comment_ids = data_comments_pol['parent_comment_id']\n",
    "for parent_id in parent_comment_ids[~parent_comment_ids.isnull()].values:\n",
    "    if parent_id in replies_count:\n",
    "        replies_count.loc[parent_id] += 1"
   ]
  },
  {
   "cell_type": "code",
   "execution_count": 98,
   "metadata": {},
   "outputs": [
    {
     "name": "stdout",
     "output_type": "stream",
     "text": [
      "row: 661077\n",
      "upvotes: 704\n",
      "author_id: 30579\n"
     ]
    }
   ],
   "source": [
    "print('row:', data_comments_pol['upvotes'].values.argmax())\n",
    "print('upvotes:', data_comments_pol['upvotes'].max())\n",
    "print('author_id:', data_comments_pol.iloc[3197]['author_id'])"
   ]
  },
  {
   "cell_type": "code",
   "execution_count": 167,
   "metadata": {},
   "outputs": [],
   "source": [
    "extracted_features = dict()\n",
    "extracted_features['upvotes'] = data_comments_pol['upvotes'].values\n",
    "extracted_features['replies'] = replies_count.loc[data_comments_pol['comment_id']].values\n",
    "extracted_features['text_length'] = data_comments_pol['comment_text'].str.len().values\n",
    "extracted_features['author_upvotes'] = upvotes_per_author.loc[data_comments_pol['author_id']].values\n",
    "extracted_features['author_comments'] = comments_per_author.loc[data_comments_pol['author_id']].values\n",
    "extracted_features['mean_author_upvotes'] = mean_upvotes_per_author.loc[data_comments_pol['author_id']].values\n",
    "\n",
    "# TODO:\n",
    "# Rang\n",
    "# Rechtschreibung (cluster words?)\n",
    "# Amount of words\n",
    "# Mean amount of words in a sentence\n",
    "# Ähnlichkeit von Comment and Article (used words from articles wordcloud)\n",
    "# Grammatik (use pretrained model)"
   ]
  },
  {
   "cell_type": "code",
   "execution_count": 168,
   "metadata": {},
   "outputs": [],
   "source": [
    "extracted_features_df = pd.DataFrame.from_dict(extracted_features)"
   ]
  },
  {
   "cell_type": "code",
   "execution_count": 199,
   "metadata": {},
   "outputs": [
    {
     "data": {
      "image/png": "[encoded data removed]",
      "text/plain": [
       "<matplotlib.figure.Figure at 0x20ab67be438>"
      ]
     },
     "metadata": {},
     "output_type": "display_data"
    }
   ],
   "source": [
    "labels = list(reversed(extracted_features_df.columns))\n",
    "\n",
    "fig, ax = plt.subplots(1, 1, figsize=(14, 12))\n",
    "cax = ax.matshow(extracted_features_df[extracted_features_df['author_comments'] > 1000][labels].corr())\n",
    "cbar = fig.colorbar(cax)\n",
    "ax.set_xticklabels([''] + labels)\n",
    "ax.set_yticklabels([''] + labels)\n",
    "ax.set_title('Correlations: Comment Features')\n",
    "fig.savefig('comments_from_1000er_authors.pdf')\n",
    "fig.savefig('comments_from_1000er_authors.png')"
   ]
  },
  {
   "cell_type": "code",
   "execution_count": null,
   "metadata": {},
   "outputs": [],
   "source": [
    "# class for top 10 comments (not equal distributed classes)\n",
    "# classweights for loss functions (weights per class)\n",
    "# otherwise over oder under sampling\n",
    "\n",
    "### Data augmentation translate german to english and vice versa"
   ]
  }
 ],
 "metadata": {
  "kernelspec": {
   "display_name": "Python 3",
   "language": "python",
   "name": "python3"
  },
  "language_info": {
   "codemirror_mode": {
    "name": "ipython",
    "version": 3
   },
   "file_extension": ".py",
   "mimetype": "text/x-python",
   "name": "python",
   "nbconvert_exporter": "python",
   "pygments_lexer": "ipython3",
   "version": "3.6.4"
  }
 },
 "nbformat": 4,
 "nbformat_minor": 2
}
