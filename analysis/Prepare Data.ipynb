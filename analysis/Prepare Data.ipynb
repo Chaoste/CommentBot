{
 "cells": [
  {
   "cell_type": "markdown",
   "metadata": {},
   "source": [
    "#### Johannes Preprocessing: https://github.com/jfilter/tmip/blob/master/preprocess_pol.ipynb"
   ]
  },
  {
   "cell_type": "code",
   "execution_count": 3,
   "metadata": {},
   "outputs": [],
   "source": [
    "import datetime\n",
    "import os\n",
    "import re\n",
    "import urllib\n",
    "import sys\n",
    "import math\n",
    "import numpy as np\n",
    "import pandas as pd\n",
    "from scipy.stats import describe\n",
    "from gensim.models.wrappers import FastText\n",
    "\n",
    "from matplotlib import pyplot as plt\n",
    "\n",
    "# Data files\n",
    "\n",
    "# article_id, article_url\n",
    "SRC_ARTICLES = '../data/guardian-all/articles-standardized.csv'\n",
    "SRC_AUTHORS = '../data/guardian-all/authors-standardized.csv'\n",
    "SRC_COMMENTS = '../data/guardian-all/sorted_comments-standardized.csv'\n",
    "SRC_COMMENTS_POL = '../data/pol/comments-root-all-pol.csv'\n",
    "SRC_COMMENTS_POL_WITH_REPLIES = '../data/pol/comments-all-pol.csv'\n",
    "# SRC_COMMENTS_POL_TEXT = '../data/guardian-all/sorted_comments-standardized-pol-text.csv'\n",
    "SRC_COMMENTS_TOKENIZED_ORIG_BIN = \"../data/embedding/guardian-comments-50-tokenized.bin\"\n",
    "SRC_COMMENTS_TOKENIZED_BIN_GENSIM = \"../data/embedding/gensim-guardian-comments-50-tokenized.bin\"\n",
    "\n",
    "def save_embedding(word_vectors):\n",
    "    print(\"saving embeddings...\")\n",
    "    # word_vectors = KeyedVectors.load_word2vec_format('wordvectors.w2v')\n",
    "    word_vectors.save(SRC_COMMENTS_TOKENIZED_BIN_GENSIM)\n",
    "    # word_vectors.save_word2vec_format('wordvectors.w2v')"
   ]
  },
  {
   "cell_type": "code",
   "execution_count": 4,
   "metadata": {
    "scrolled": true
   },
   "outputs": [
    {
     "ename": "FileNotFoundError",
     "evalue": "[Errno 2] No such file or directory: '../data/embedding/guardian-comments-50-tokenized.bin'",
     "output_type": "error",
     "traceback": [
      "\u001b[1;31m---------------------------------------------------------------------------\u001b[0m",
      "\u001b[1;31mFileNotFoundError\u001b[0m                         Traceback (most recent call last)",
      "\u001b[1;32m<ipython-input-4-5538db6ecb2c>\u001b[0m in \u001b[0;36m<module>\u001b[1;34m()\u001b[0m\n\u001b[1;32m----> 1\u001b[1;33m \u001b[0mmodel\u001b[0m \u001b[1;33m=\u001b[0m \u001b[0mFastText\u001b[0m\u001b[1;33m.\u001b[0m\u001b[0mload_fasttext_format\u001b[0m\u001b[1;33m(\u001b[0m\u001b[0mSRC_COMMENTS_TOKENIZED_BIN\u001b[0m\u001b[1;33m)\u001b[0m\u001b[1;33m\u001b[0m\u001b[0m\n\u001b[0m\u001b[0;32m      2\u001b[0m \u001b[1;31m# Weight matrix: model.wv.syn0\u001b[0m\u001b[1;33m\u001b[0m\u001b[1;33m\u001b[0m\u001b[0m\n\u001b[0;32m      3\u001b[0m \u001b[1;31m# Word vectors: model.wv.vocab\u001b[0m\u001b[1;33m\u001b[0m\u001b[1;33m\u001b[0m\u001b[0m\n",
      "\u001b[1;32mc:\\users\\thomas\\hpi\\textmi~1\\venv\\lib\\site-packages\\gensim\\models\\deprecated\\fasttext_wrapper.py\u001b[0m in \u001b[0;36mload_fasttext_format\u001b[1;34m(cls, model_file, encoding)\u001b[0m\n\u001b[0;32m    269\u001b[0m             \u001b[0mmodel_file\u001b[0m \u001b[1;33m+=\u001b[0m \u001b[1;34m'.bin'\u001b[0m\u001b[1;33m\u001b[0m\u001b[0m\n\u001b[0;32m    270\u001b[0m         \u001b[0mmodel\u001b[0m\u001b[1;33m.\u001b[0m\u001b[0mfile_name\u001b[0m \u001b[1;33m=\u001b[0m \u001b[0mmodel_file\u001b[0m\u001b[1;33m\u001b[0m\u001b[0m\n\u001b[1;32m--> 271\u001b[1;33m         \u001b[0mmodel\u001b[0m\u001b[1;33m.\u001b[0m\u001b[0mload_binary_data\u001b[0m\u001b[1;33m(\u001b[0m\u001b[0mencoding\u001b[0m\u001b[1;33m=\u001b[0m\u001b[0mencoding\u001b[0m\u001b[1;33m)\u001b[0m\u001b[1;33m\u001b[0m\u001b[0m\n\u001b[0m\u001b[0;32m    272\u001b[0m         \u001b[1;32mreturn\u001b[0m \u001b[0mmodel\u001b[0m\u001b[1;33m\u001b[0m\u001b[0m\n\u001b[0;32m    273\u001b[0m \u001b[1;33m\u001b[0m\u001b[0m\n",
      "\u001b[1;32mc:\\users\\thomas\\hpi\\textmi~1\\venv\\lib\\site-packages\\gensim\\models\\deprecated\\fasttext_wrapper.py\u001b[0m in \u001b[0;36mload_binary_data\u001b[1;34m(self, encoding)\u001b[0m\n\u001b[0;32m    292\u001b[0m     \u001b[1;32mdef\u001b[0m \u001b[0mload_binary_data\u001b[0m\u001b[1;33m(\u001b[0m\u001b[0mself\u001b[0m\u001b[1;33m,\u001b[0m \u001b[0mencoding\u001b[0m\u001b[1;33m=\u001b[0m\u001b[1;34m'utf8'\u001b[0m\u001b[1;33m)\u001b[0m\u001b[1;33m:\u001b[0m\u001b[1;33m\u001b[0m\u001b[0m\n\u001b[0;32m    293\u001b[0m         \u001b[1;34m\"\"\"Loads data from the output binary file created by FastText training\"\"\"\u001b[0m\u001b[1;33m\u001b[0m\u001b[0m\n\u001b[1;32m--> 294\u001b[1;33m         \u001b[1;32mwith\u001b[0m \u001b[0mutils\u001b[0m\u001b[1;33m.\u001b[0m\u001b[0msmart_open\u001b[0m\u001b[1;33m(\u001b[0m\u001b[0mself\u001b[0m\u001b[1;33m.\u001b[0m\u001b[0mfile_name\u001b[0m\u001b[1;33m,\u001b[0m \u001b[1;34m'rb'\u001b[0m\u001b[1;33m)\u001b[0m \u001b[1;32mas\u001b[0m \u001b[0mf\u001b[0m\u001b[1;33m:\u001b[0m\u001b[1;33m\u001b[0m\u001b[0m\n\u001b[0m\u001b[0;32m    295\u001b[0m             \u001b[0mself\u001b[0m\u001b[1;33m.\u001b[0m\u001b[0mload_model_params\u001b[0m\u001b[1;33m(\u001b[0m\u001b[0mf\u001b[0m\u001b[1;33m)\u001b[0m\u001b[1;33m\u001b[0m\u001b[0m\n\u001b[0;32m    296\u001b[0m             \u001b[0mself\u001b[0m\u001b[1;33m.\u001b[0m\u001b[0mload_dict\u001b[0m\u001b[1;33m(\u001b[0m\u001b[0mf\u001b[0m\u001b[1;33m,\u001b[0m \u001b[0mencoding\u001b[0m\u001b[1;33m=\u001b[0m\u001b[0mencoding\u001b[0m\u001b[1;33m)\u001b[0m\u001b[1;33m\u001b[0m\u001b[0m\n",
      "\u001b[1;32mc:\\users\\thomas\\hpi\\textmi~1\\venv\\lib\\site-packages\\smart_open\\smart_open_lib.py\u001b[0m in \u001b[0;36msmart_open\u001b[1;34m(uri, mode, **kw)\u001b[0m\n\u001b[0;32m    174\u001b[0m             \u001b[0mencoding\u001b[0m \u001b[1;33m=\u001b[0m \u001b[0mkw\u001b[0m\u001b[1;33m.\u001b[0m\u001b[0mpop\u001b[0m\u001b[1;33m(\u001b[0m\u001b[1;34m'encoding'\u001b[0m\u001b[1;33m,\u001b[0m \u001b[1;32mNone\u001b[0m\u001b[1;33m)\u001b[0m\u001b[1;33m\u001b[0m\u001b[0m\n\u001b[0;32m    175\u001b[0m             \u001b[0merrors\u001b[0m \u001b[1;33m=\u001b[0m \u001b[0mkw\u001b[0m\u001b[1;33m.\u001b[0m\u001b[0mpop\u001b[0m\u001b[1;33m(\u001b[0m\u001b[1;34m'errors'\u001b[0m\u001b[1;33m,\u001b[0m \u001b[0mDEFAULT_ERRORS\u001b[0m\u001b[1;33m)\u001b[0m\u001b[1;33m\u001b[0m\u001b[0m\n\u001b[1;32m--> 176\u001b[1;33m             \u001b[1;32mreturn\u001b[0m \u001b[0mfile_smart_open\u001b[0m\u001b[1;33m(\u001b[0m\u001b[0mparsed_uri\u001b[0m\u001b[1;33m.\u001b[0m\u001b[0muri_path\u001b[0m\u001b[1;33m,\u001b[0m \u001b[0mmode\u001b[0m\u001b[1;33m,\u001b[0m \u001b[0mencoding\u001b[0m\u001b[1;33m=\u001b[0m\u001b[0mencoding\u001b[0m\u001b[1;33m,\u001b[0m \u001b[0merrors\u001b[0m\u001b[1;33m=\u001b[0m\u001b[0merrors\u001b[0m\u001b[1;33m)\u001b[0m\u001b[1;33m\u001b[0m\u001b[0m\n\u001b[0m\u001b[0;32m    177\u001b[0m         \u001b[1;32melif\u001b[0m \u001b[0mparsed_uri\u001b[0m\u001b[1;33m.\u001b[0m\u001b[0mscheme\u001b[0m \u001b[1;32min\u001b[0m \u001b[1;33m(\u001b[0m\u001b[1;34m\"s3\"\u001b[0m\u001b[1;33m,\u001b[0m \u001b[1;34m\"s3n\"\u001b[0m\u001b[1;33m,\u001b[0m \u001b[1;34m's3u'\u001b[0m\u001b[1;33m)\u001b[0m\u001b[1;33m:\u001b[0m\u001b[1;33m\u001b[0m\u001b[0m\n\u001b[0;32m    178\u001b[0m             \u001b[1;32mreturn\u001b[0m \u001b[0ms3_open_uri\u001b[0m\u001b[1;33m(\u001b[0m\u001b[0mparsed_uri\u001b[0m\u001b[1;33m,\u001b[0m \u001b[0mmode\u001b[0m\u001b[1;33m,\u001b[0m \u001b[1;33m**\u001b[0m\u001b[0mkw\u001b[0m\u001b[1;33m)\u001b[0m\u001b[1;33m\u001b[0m\u001b[0m\n",
      "\u001b[1;32mc:\\users\\thomas\\hpi\\textmi~1\\venv\\lib\\site-packages\\smart_open\\smart_open_lib.py\u001b[0m in \u001b[0;36mfile_smart_open\u001b[1;34m(fname, mode, encoding, errors)\u001b[0m\n\u001b[0;32m    669\u001b[0m     \u001b[1;32mexcept\u001b[0m \u001b[0mKeyError\u001b[0m\u001b[1;33m:\u001b[0m\u001b[1;33m\u001b[0m\u001b[0m\n\u001b[0;32m    670\u001b[0m         \u001b[0mraw_mode\u001b[0m \u001b[1;33m=\u001b[0m \u001b[0mmode\u001b[0m\u001b[1;33m\u001b[0m\u001b[0m\n\u001b[1;32m--> 671\u001b[1;33m     \u001b[0mraw_fobj\u001b[0m \u001b[1;33m=\u001b[0m \u001b[0mopen\u001b[0m\u001b[1;33m(\u001b[0m\u001b[0mfname\u001b[0m\u001b[1;33m,\u001b[0m \u001b[0mraw_mode\u001b[0m\u001b[1;33m)\u001b[0m\u001b[1;33m\u001b[0m\u001b[0m\n\u001b[0m\u001b[0;32m    672\u001b[0m     \u001b[0mdecompressed_fobj\u001b[0m \u001b[1;33m=\u001b[0m \u001b[0mcompression_wrapper\u001b[0m\u001b[1;33m(\u001b[0m\u001b[0mraw_fobj\u001b[0m\u001b[1;33m,\u001b[0m \u001b[0mfname\u001b[0m\u001b[1;33m,\u001b[0m \u001b[0mraw_mode\u001b[0m\u001b[1;33m)\u001b[0m\u001b[1;33m\u001b[0m\u001b[0m\n\u001b[0;32m    673\u001b[0m     \u001b[0mdecoded_fobj\u001b[0m \u001b[1;33m=\u001b[0m \u001b[0mencoding_wrapper\u001b[0m\u001b[1;33m(\u001b[0m\u001b[0mdecompressed_fobj\u001b[0m\u001b[1;33m,\u001b[0m \u001b[0mmode\u001b[0m\u001b[1;33m,\u001b[0m \u001b[0mencoding\u001b[0m\u001b[1;33m=\u001b[0m\u001b[0mencoding\u001b[0m\u001b[1;33m,\u001b[0m \u001b[0merrors\u001b[0m\u001b[1;33m=\u001b[0m\u001b[0merrors\u001b[0m\u001b[1;33m)\u001b[0m\u001b[1;33m\u001b[0m\u001b[0m\n",
      "\u001b[1;31mFileNotFoundError\u001b[0m: [Errno 2] No such file or directory: '../data/embedding/guardian-comments-50-tokenized.bin'"
     ]
    }
   ],
   "source": [
    "model = FastText.load_fasttext_format(SRC_COMMENTS_TOKENIZED_ORIG_BIN)\n",
    "# Weight matrix: model.wv.syn0\n",
    "# Word vectors: model.wv.vocab"
   ]
  },
  {
   "cell_type": "code",
   "execution_count": 71,
   "metadata": {},
   "outputs": [
    {
     "name": "stdout",
     "output_type": "stream",
     "text": [
      "saving embeddings...\n"
     ]
    }
   ],
   "source": [
    "save_embedding(model)"
   ]
  },
  {
   "cell_type": "code",
   "execution_count": 5,
   "metadata": {},
   "outputs": [],
   "source": [
    "data_articles = pd.read_csv(SRC_ARTICLES)  # shape = (626395, 2)\n",
    "# data_articles_pol = data_articles[data_articles['article_url'].str.contains('/politics/')]  # shape = (20167, 2)"
   ]
  },
  {
   "cell_type": "code",
   "execution_count": 6,
   "metadata": {
    "scrolled": true
   },
   "outputs": [
    {
     "name": "stdout",
     "output_type": "stream",
     "text": [
      "Shape of data_articles_pol: (20167, 2)\n"
     ]
    },
    {
     "data": {
      "image/png": "[encoded data removed]",
      "text/plain": [
       "<matplotlib.figure.Figure at 0x19600e34198>"
      ]
     },
     "metadata": {},
     "output_type": "display_data"
    }
   ],
   "source": [
    "def get_articles(year):\n",
    "    return data_articles[data_articles['article_url'].str.contains('/politics/{}'.format(year))]\n",
    "\n",
    "plt.plot([get_articles(x).shape[0] for x in range(2011, 2018)])\n",
    "\n",
    "# Let's use 2015 (most politics articles)\n",
    "# data_articles_pol = get_articles(2015)\n",
    "data_articles_pol = data_articles[data_articles['article_url'].str.contains('.com/politics/')]\n",
    "print('Shape of data_articles_pol: {}'.format(data_articles_pol.shape))"
   ]
  },
  {
   "cell_type": "code",
   "execution_count": 7,
   "metadata": {},
   "outputs": [
    {
     "name": "stderr",
     "output_type": "stream",
     "text": [
      "c:\\users\\thomas\\hpi\\textmi~1\\venv\\lib\\site-packages\\IPython\\core\\interactiveshell.py:2785: DtypeWarning: Columns (0,1,2,5,6) have mixed types. Specify dtype option on import or set low_memory=False.\n",
      "  interactivity=interactivity, compiler=compiler, result=result)\n"
     ]
    },
    {
     "name": "stdout",
     "output_type": "stream",
     "text": [
      ".43582(19060).289678(113772).64050(37100).1760(603).85757(24764).161535(70331).20331(6391).23705(9516).2783(1099).24824(10720).973(756).5524(2336).8676(5277).18067(9057).19962(9630).264810(94433).54250(37171).2196(1161).171445(53425).48768(31827).20367(8061).5844(1907).18107(9277).3194(1472).11458(5326).14609(6440).172106(54507).91423(56521).7155(2429).172137(68028).22146(7238).7864(4032).14404(6180).8211(4123).9886(4661).239436(97415).17546(8600).152998(58245).15338(5043).12913(5972).7690(3641).13280(6023).184438(76216).62535(17593).66522(32233).8953(4420).5483(2657).12709(4753).4484(2240).7720(3847).122450(48414).86470(32974).9874(4306).6662(3296).136859(51135).55406(24918).4041(1432).74869(31223).39330(14815).55489(23522).56432(24185).5089(2838)"
     ]
    }
   ],
   "source": [
    "article_ids = set(data_articles_pol['article_id'])\n",
    "data_comments_pol = []  # Only parent comments\n",
    "data_comments_pol_all = []  # Includes replies\n",
    "headline = pd.read_csv(SRC_COMMENTS, nrows=10)\n",
    "for df_chunk in pd.read_csv(SRC_COMMENTS, header=None, skiprows=0, chunksize=1000000):\n",
    "    print('.', end='')\n",
    "    matches = df_chunk[df_chunk[0].isin(article_ids)]\n",
    "    if len(matches):\n",
    "        print(len(matches), end='')\n",
    "        data_comments_pol_all.append(matches)\n",
    "        \n",
    "        # Remove replies\n",
    "        matches = matches[matches[5].isnull()]  # index 5 is 'parent_comment_id'\n",
    "        if len(matches):\n",
    "            print('({})'.format(len(matches)), end='')\n",
    "            data_comments_pol.append(matches)\n",
    "            \n",
    "data_comments_pol = pd.concat(data_comments_pol)\n",
    "data_comments_pol.columns = headline.columns  # shape = (40974, 7)\n",
    "columns = list(headline.columns)\n",
    "columns.remove('parent_comment_id')\n",
    "data_comments_pol = data_comments_pol[columns]  # shape = (40974, 6)\n",
    "data_comments_pol.to_csv(SRC_COMMENTS_POL)\n",
    "\n",
    "data_comments_pol_all = pd.concat(data_comments_pol_all)\n",
    "data_comments_pol_all.columns = headline.columns  # shape = (?, 7)\n",
    "data_comments_pol_all.to_csv(SRC_COMMENTS_POL_WITH_REPLIES)"
   ]
  }
 ],
 "metadata": {
  "kernelspec": {
   "display_name": "Python 3",
   "language": "python",
   "name": "python3"
  },
  "language_info": {
   "codemirror_mode": {
    "name": "ipython",
    "version": 3
   },
   "file_extension": ".py",
   "mimetype": "text/x-python",
   "name": "python",
   "nbconvert_exporter": "python",
   "pygments_lexer": "ipython3",
   "version": "3.6.4"
  }
 },
 "nbformat": 4,
 "nbformat_minor": 2
}
