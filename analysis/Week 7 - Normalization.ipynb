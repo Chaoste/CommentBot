{
 "cells": [
  {
   "cell_type": "code",
   "execution_count": 6,
   "metadata": {},
   "outputs": [],
   "source": [
    "import pandas as pd\n",
    "import math\n",
    "import numpy as np"
   ]
  },
  {
   "cell_type": "code",
   "execution_count": 56,
   "metadata": {},
   "outputs": [],
   "source": [
    "SRC_ARTICLES = '../data/guardian-all/articles-standardized.csv'\n",
    "SRC_AUTHORS = '../data/guardian-all/authors-standardized.csv'\n",
    "\n",
    "SRC_COMMENTS_POL = '../data/pol/comments-root-all-pol.csv'\n",
    "\n",
    "SRC_GENSIM_EMBEDDING = '../data/embedding/gensim-guardian-comments-50-tokenized.bin'\n",
    "\n",
    "# File to generate\n",
    "SRC_ENHANCED_COMMENTS = '../data/pol/comments-root-all-pol-enhanced.csv'"
   ]
  },
  {
   "cell_type": "markdown",
   "metadata": {},
   "source": [
    "### Add attributes to the comments"
   ]
  },
  {
   "cell_type": "code",
   "execution_count": 22,
   "metadata": {},
   "outputs": [
    {
     "name": "stdout",
     "output_type": "stream",
     "text": [
      "Loaded comments with shape (1370587, 7)\n"
     ]
    }
   ],
   "source": [
    "co = pd.read_csv(SRC_COMMENTS_POL)  # 1370587 rows × 7 columns\n",
    "print(f'Loaded comments with shape {co.shape}')"
   ]
  },
  {
   "cell_type": "code",
   "execution_count": 23,
   "metadata": {},
   "outputs": [
    {
     "name": "stdout",
     "output_type": "stream",
     "text": [
      "Add rank attribute\n",
      "Add article attributes\n",
      "Apply normalization\n",
      "(1370587, 11)\n"
     ]
    },
    {
     "data": {
      "text/html": [
       "<div>\n",
       "<style scoped>\n",
       "    .dataframe tbody tr th:only-of-type {\n",
       "        vertical-align: middle;\n",
       "    }\n",
       "\n",
       "    .dataframe tbody tr th {\n",
       "        vertical-align: top;\n",
       "    }\n",
       "\n",
       "    .dataframe thead th {\n",
       "        text-align: right;\n",
       "    }\n",
       "</style>\n",
       "<table border=\"1\" class=\"dataframe\">\n",
       "  <thead>\n",
       "    <tr style=\"text-align: right;\">\n",
       "      <th></th>\n",
       "      <th>Unnamed: 0</th>\n",
       "      <th>article_id</th>\n",
       "      <th>author_id</th>\n",
       "      <th>comment_id</th>\n",
       "      <th>comment_text</th>\n",
       "      <th>timestamp</th>\n",
       "      <th>upvotes</th>\n",
       "      <th>rank</th>\n",
       "      <th>total_upvotes</th>\n",
       "      <th>total_comments</th>\n",
       "      <th>rel_upvotes</th>\n",
       "    </tr>\n",
       "  </thead>\n",
       "  <tbody>\n",
       "    <tr>\n",
       "      <th>0</th>\n",
       "      <td>133678</td>\n",
       "      <td>1486</td>\n",
       "      <td>10680</td>\n",
       "      <td>72619094</td>\n",
       "      <td>Let's go Sian!</td>\n",
       "      <td>2016-04-18T22:35:17Z</td>\n",
       "      <td>9</td>\n",
       "      <td>14</td>\n",
       "      <td>552</td>\n",
       "      <td>40</td>\n",
       "      <td>1.630435</td>\n",
       "    </tr>\n",
       "    <tr>\n",
       "      <th>1</th>\n",
       "      <td>133694</td>\n",
       "      <td>1486</td>\n",
       "      <td>2214</td>\n",
       "      <td>72620249</td>\n",
       "      <td>Instead of taking for media rhetoric people co...</td>\n",
       "      <td>2016-04-18T22:54:30Z</td>\n",
       "      <td>10</td>\n",
       "      <td>19</td>\n",
       "      <td>552</td>\n",
       "      <td>40</td>\n",
       "      <td>1.811594</td>\n",
       "    </tr>\n",
       "    <tr>\n",
       "      <th>2</th>\n",
       "      <td>133698</td>\n",
       "      <td>1486</td>\n",
       "      <td>24826</td>\n",
       "      <td>72618983</td>\n",
       "      <td>Goldsmith or probably Crosby to be more accura...</td>\n",
       "      <td>2016-04-18T22:33:24Z</td>\n",
       "      <td>21</td>\n",
       "      <td>10</td>\n",
       "      <td>552</td>\n",
       "      <td>40</td>\n",
       "      <td>3.804348</td>\n",
       "    </tr>\n",
       "    <tr>\n",
       "      <th>3</th>\n",
       "      <td>133700</td>\n",
       "      <td>1486</td>\n",
       "      <td>2494</td>\n",
       "      <td>72618704</td>\n",
       "      <td>The Dead Cat has made yet another appearance. ...</td>\n",
       "      <td>2016-04-18T22:28:55Z</td>\n",
       "      <td>12</td>\n",
       "      <td>7</td>\n",
       "      <td>552</td>\n",
       "      <td>40</td>\n",
       "      <td>2.173913</td>\n",
       "    </tr>\n",
       "    <tr>\n",
       "      <th>4</th>\n",
       "      <td>133701</td>\n",
       "      <td>1486</td>\n",
       "      <td>25059</td>\n",
       "      <td>72620243</td>\n",
       "      <td>Oh ! You lucky Londoners. You get to choose wh...</td>\n",
       "      <td>2016-04-18T22:54:25Z</td>\n",
       "      <td>6</td>\n",
       "      <td>18</td>\n",
       "      <td>552</td>\n",
       "      <td>40</td>\n",
       "      <td>1.086957</td>\n",
       "    </tr>\n",
       "  </tbody>\n",
       "</table>\n",
       "</div>"
      ],
      "text/plain": [
       "   Unnamed: 0  article_id  author_id  comment_id  \\\n",
       "0      133678        1486      10680    72619094   \n",
       "1      133694        1486       2214    72620249   \n",
       "2      133698        1486      24826    72618983   \n",
       "3      133700        1486       2494    72618704   \n",
       "4      133701        1486      25059    72620243   \n",
       "\n",
       "                                        comment_text             timestamp  \\\n",
       "0                                     Let's go Sian!  2016-04-18T22:35:17Z   \n",
       "1  Instead of taking for media rhetoric people co...  2016-04-18T22:54:30Z   \n",
       "2  Goldsmith or probably Crosby to be more accura...  2016-04-18T22:33:24Z   \n",
       "3  The Dead Cat has made yet another appearance. ...  2016-04-18T22:28:55Z   \n",
       "4  Oh ! You lucky Londoners. You get to choose wh...  2016-04-18T22:54:25Z   \n",
       "\n",
       "   upvotes  rank  total_upvotes  total_comments  rel_upvotes  \n",
       "0        9    14            552              40     1.630435  \n",
       "1       10    19            552              40     1.811594  \n",
       "2       21    10            552              40     3.804348  \n",
       "3       12     7            552              40     2.173913  \n",
       "4        6    18            552              40     1.086957  "
      ]
     },
     "execution_count": 23,
     "metadata": {},
     "output_type": "execute_result"
    }
   ],
   "source": [
    "print('Add rank attribute')\n",
    "co['rank'] = co.groupby('article_id')['timestamp'].rank(method='dense').astype(int)\n",
    "\n",
    "print('Add article attributes')\n",
    "co['total_upvotes'] = co.groupby('article_id')['upvotes'].transform('sum')\n",
    "co['total_comments'] = co.groupby('article_id')['upvotes'].transform('count')\n",
    "\n",
    "print('Apply normalization')\n",
    "co['rel_upvotes'] = co.apply(lambda row: (row.upvotes / (row.total_upvotes or 1)) * 100, axis=1)\n",
    "\n",
    "print(co.shape)\n",
    "co.head()"
   ]
  },
  {
   "cell_type": "markdown",
   "metadata": {},
   "source": [
    "### Filter and select best comments"
   ]
  },
  {
   "cell_type": "code",
   "execution_count": 52,
   "metadata": {},
   "outputs": [
    {
     "name": "stdout",
     "output_type": "stream",
     "text": [
      "(92767, 11)\n"
     ]
    }
   ],
   "source": [
    "filtered = co[co['rank'] <= 10]  # select only first 10 comments\n",
    "filtered = filtered[filtered['total_upvotes'] > 10] # do not consider articles with under 10 upvotes\n",
    "filtered = filtered[filtered['total_comments'] >= 10] # remove articles with less than 10 comments.\n",
    "filtered = filtered[filtered['total_comments'] < 200] # remove articles with over 200 comments.\n",
    "filtered = filtered[filtered['comment_text'].str.len() > 50]\n",
    "print(filtered.shape)  # 76025 rows × 11 columns"
   ]
  },
  {
   "cell_type": "code",
   "execution_count": 53,
   "metadata": {},
   "outputs": [],
   "source": [
    "N = 5000\n",
    "# Select N comments with most (rel.) upvotes and N comments with the fewest (rel.) upvotes\n",
    "res_pos = filtered.groupby(\"rank\", group_keys=False).apply(lambda g: g.nlargest(N, \"rel_upvotes\"))\n",
    "res_neg = filtered.groupby(\"rank\", group_keys=False).apply(lambda g: g.nsmallest(N, \"rel_upvotes\"))\n",
    "res_pos['bin'] = 1\n",
    "res_neg['bin'] = 0"
   ]
  },
  {
   "cell_type": "code",
   "execution_count": 55,
   "metadata": {},
   "outputs": [
    {
     "name": "stdout",
     "output_type": "stream",
     "text": [
      "(100000, 12)\n"
     ]
    }
   ],
   "source": [
    "res = pd.concat([res_pos, res_neg])\n",
    "print(res.shape)\n",
    "res.to_csv(SRC_ENHANCED_COMMENTS)  # 10k per rank -> 100000 rows x 12 columns"
   ]
  }
 ],
 "metadata": {
  "kernelspec": {
   "display_name": "Python 3",
   "language": "python",
   "name": "python3"
  },
  "language_info": {
   "codemirror_mode": {
    "name": "ipython",
    "version": 3
   },
   "file_extension": ".py",
   "mimetype": "text/x-python",
   "name": "python",
   "nbconvert_exporter": "python",
   "pygments_lexer": "ipython3",
   "version": "3.6.4"
  }
 },
 "nbformat": 4,
 "nbformat_minor": 2
}
